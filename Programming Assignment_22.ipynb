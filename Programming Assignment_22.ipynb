{
 "cells": [
  {
   "cell_type": "raw",
   "id": "67705bc3-3602-478b-b266-ea87843deef1",
   "metadata": {},
   "source": [
    "1.Create a function that takes three parameters where:\n",
    " x is the start of the range (inclusive).\n",
    " y is the end of the range (inclusive).\n",
    " n is the divisor to be checked against.\n",
    "Return an ordered list with numbers in the range that are divisible by the third parameter n.\n",
    "Return an empty list if there are no numbers that are divisible by n.\n",
    "\n",
    "Examples\n",
    "list_operation(1, 10, 3) ➞ [3, 6, 9]\n",
    "list_operation(7, 9, 2) ➞ [8]\n",
    "list_operation(15, 20, 7) ➞ []"
   ]
  },
  {
   "cell_type": "code",
   "execution_count": 1,
   "id": "dded8a9a-edbb-45e9-abe9-d876d9731b3d",
   "metadata": {},
   "outputs": [],
   "source": [
    "def list_operation(x, y, n):\n",
    "    l1 = []\n",
    "    \n",
    "    for i in range(x,y):\n",
    "        if (i%n) == 0:\n",
    "            l1.append(i)\n",
    "    return l1"
   ]
  },
  {
   "cell_type": "code",
   "execution_count": 2,
   "id": "a1d91fda-fa0f-43ab-a33c-49501928c7e2",
   "metadata": {},
   "outputs": [
    {
     "data": {
      "text/plain": [
       "[3, 6, 9]"
      ]
     },
     "execution_count": 2,
     "metadata": {},
     "output_type": "execute_result"
    }
   ],
   "source": [
    "list_operation(1, 10, 3)"
   ]
  },
  {
   "cell_type": "code",
   "execution_count": 3,
   "id": "08051a17-d529-43c5-8773-afedea39fe7f",
   "metadata": {},
   "outputs": [
    {
     "data": {
      "text/plain": [
       "[8]"
      ]
     },
     "execution_count": 3,
     "metadata": {},
     "output_type": "execute_result"
    }
   ],
   "source": [
    "list_operation(7, 9, 2)"
   ]
  },
  {
   "cell_type": "code",
   "execution_count": 4,
   "id": "a5ffc4fa-5444-49cf-8768-af4f33cba3cd",
   "metadata": {},
   "outputs": [
    {
     "data": {
      "text/plain": [
       "[]"
      ]
     },
     "execution_count": 4,
     "metadata": {},
     "output_type": "execute_result"
    }
   ],
   "source": [
    "list_operation(15, 20, 7)"
   ]
  },
  {
   "cell_type": "raw",
   "id": "ac511785-5412-4b8b-9c8e-b330471c3aa3",
   "metadata": {},
   "source": [
    "2.Create a function that takes in two lists and returns True if the second list follows the first list\n",
    "by one element, and False otherwise. In other words, determine if the second list is the first\n",
    "list shifted to the right by 1.\n",
    "Examples\n",
    "simon_says([1, 2], [5, 1]) ➞ True\n",
    "simon_says([1, 2], [5, 5]) ➞ False\n",
    "simon_says([1, 2, 3, 4, 5], [0, 1, 2, 3, 4]) ➞ True\n",
    "simon_says([1, 2, 3, 4, 5], [5, 5, 1, 2, 3]) ➞ False\n",
    "Notes\n",
    " Both input lists will be of the same length, and will have a minimum length of 2.\n",
    " The values of the 0-indexed element in the second list and the n-1th indexed element\n",
    "in the first list do not matter."
   ]
  },
  {
   "cell_type": "code",
   "execution_count": 5,
   "id": "04a9bb06-7777-4fe4-a337-fe63916ab824",
   "metadata": {},
   "outputs": [],
   "source": [
    "def simon_says(a,b):\n",
    "    a.remove(a[len(a)-1])\n",
    "    b.remove(b[0])\n",
    "    if set(a) == set(b):\n",
    "        print(True)\n",
    "    else:\n",
    "        print(False)"
   ]
  },
  {
   "cell_type": "code",
   "execution_count": 6,
   "id": "85406c85-5cb1-45a4-9cdf-46130d4af000",
   "metadata": {},
   "outputs": [
    {
     "name": "stdout",
     "output_type": "stream",
     "text": [
      "True\n"
     ]
    }
   ],
   "source": [
    "simon_says([1, 2], [5, 1])"
   ]
  },
  {
   "cell_type": "code",
   "execution_count": 7,
   "id": "6cb14db8-1d57-469b-9b92-fc7b8528273e",
   "metadata": {},
   "outputs": [
    {
     "name": "stdout",
     "output_type": "stream",
     "text": [
      "False\n"
     ]
    }
   ],
   "source": [
    "simon_says([1, 2], [5, 5])"
   ]
  },
  {
   "cell_type": "code",
   "execution_count": 8,
   "id": "76034483-49ca-44a3-9d11-a53f73dd3fc9",
   "metadata": {},
   "outputs": [
    {
     "name": "stdout",
     "output_type": "stream",
     "text": [
      "True\n"
     ]
    }
   ],
   "source": [
    "simon_says([1, 2, 3, 4, 5], [0, 1, 2, 3, 4]) "
   ]
  },
  {
   "cell_type": "code",
   "execution_count": 9,
   "id": "a2c44cb6-5134-4b26-914f-246fa271f0b8",
   "metadata": {},
   "outputs": [
    {
     "name": "stdout",
     "output_type": "stream",
     "text": [
      "False\n"
     ]
    }
   ],
   "source": [
    "simon_says([1, 2, 3, 4, 5], [5, 5, 1, 2, 3])"
   ]
  },
  {
   "cell_type": "raw",
   "id": "c9ef3006-7aa1-4315-9dc4-827f219aa9bb",
   "metadata": {},
   "source": [
    "3.A group of friends have decided to start a secret society. The name will be the first letter of\n",
    "each of their names, sorted in alphabetical order.\n",
    "Create a function that takes in a list of names and returns the name of the secret society.\n",
    "\n",
    "Examples\n",
    "society_name([\"Adam\", \"Sarah\", \"Malcolm\"]) ➞ \"AMS\"\n",
    "\n",
    "society_name([\"Harry\", \"Newt\", \"Luna\", \"Cho\"]) ➞ \"CHLN\"\n",
    "\n",
    "society_name([\"Phoebe\", \"Chandler\", \"Rachel\", \"Ross\", \"Monica\", \"Joey\"])\n"
   ]
  },
  {
   "cell_type": "code",
   "execution_count": 10,
   "id": "b7a6f3d1-2ad7-4009-86ef-4c40cd17ec50",
   "metadata": {},
   "outputs": [],
   "source": [
    "def society_name(a):\n",
    "    l1 = []\n",
    "    for i in range(len(a)):\n",
    "        first_character = a[i][0]\n",
    "        l1.append(first_character)\n",
    "    l1.sort()\n",
    "    s_name = str(''.join(l1))\n",
    "    print(s_name)         "
   ]
  },
  {
   "cell_type": "code",
   "execution_count": 11,
   "id": "c77dc667-4cae-4847-b0e3-13eedf338101",
   "metadata": {},
   "outputs": [
    {
     "name": "stdout",
     "output_type": "stream",
     "text": [
      "AMS\n"
     ]
    }
   ],
   "source": [
    "society_name([\"Adam\", \"Sarah\", \"Malcolm\"])"
   ]
  },
  {
   "cell_type": "code",
   "execution_count": 12,
   "id": "72c130a7-698d-4ef4-960c-ed618e078dea",
   "metadata": {},
   "outputs": [
    {
     "name": "stdout",
     "output_type": "stream",
     "text": [
      "CHLN\n"
     ]
    }
   ],
   "source": [
    "society_name([\"Harry\", \"Newt\", \"Luna\", \"Cho\"])"
   ]
  },
  {
   "cell_type": "code",
   "execution_count": 13,
   "id": "b0017e6c-5829-4ab1-8b15-140910d8d454",
   "metadata": {},
   "outputs": [
    {
     "name": "stdout",
     "output_type": "stream",
     "text": [
      "CJMPRR\n"
     ]
    }
   ],
   "source": [
    "society_name([\"Phoebe\", \"Chandler\", \"Rachel\", \"Ross\", \"Monica\", \"Joey\"])"
   ]
  },
  {
   "cell_type": "raw",
   "id": "b77b9896-fb15-497f-8dd4-3fc8bf6cd62c",
   "metadata": {},
   "source": [
    "4.An isogram is a word that has no duplicate letters. Create a function that takes a string and\n",
    "returns either True or False depending on whether or not it's an \"isogram\".\n",
    "Examples\n",
    "is_isogram(\"Algorism\") ➞ True\n",
    "is_isogram(\"PasSword\") ➞ False\n",
    "# Not case sensitive.\n",
    "is_isogram(\"Consecutive\") ➞ False\n",
    "Notes\n",
    " Ignore letter case (should not be case sensitive).\n",
    " All test cases contain valid one word strings."
   ]
  },
  {
   "cell_type": "code",
   "execution_count": 15,
   "id": "6e895541-b203-42ee-b795-9cbeb0486a05",
   "metadata": {},
   "outputs": [],
   "source": [
    "def is_isogram(a):\n",
    "    b = a.lower()\n",
    "    if len(list(a)) == len(set(b)):\n",
    "        print('True')\n",
    "    else:\n",
    "        print('False')    "
   ]
  },
  {
   "cell_type": "code",
   "execution_count": 16,
   "id": "9be3ab72-19bc-4be1-b9a6-65d6de13ad52",
   "metadata": {},
   "outputs": [
    {
     "name": "stdout",
     "output_type": "stream",
     "text": [
      "True\n"
     ]
    }
   ],
   "source": [
    "is_isogram(\"Algorism\")"
   ]
  },
  {
   "cell_type": "code",
   "execution_count": 19,
   "id": "59ea5c73-aed7-4d44-a120-cac54c8955ba",
   "metadata": {},
   "outputs": [
    {
     "name": "stdout",
     "output_type": "stream",
     "text": [
      "False\n"
     ]
    }
   ],
   "source": [
    "is_isogram(\"PasSword\")"
   ]
  },
  {
   "cell_type": "code",
   "execution_count": 20,
   "id": "412d7ba7-d4db-463f-a474-76779af66836",
   "metadata": {},
   "outputs": [
    {
     "name": "stdout",
     "output_type": "stream",
     "text": [
      "False\n"
     ]
    }
   ],
   "source": [
    "is_isogram(\"Consecutive\")"
   ]
  },
  {
   "cell_type": "raw",
   "id": "d76cc9f0-fe7d-47ea-9958-cb3684839a96",
   "metadata": {},
   "source": [
    "5.Create a function that takes a string and returns True or False, depending on whether the\n",
    "characters are in order or not.\n",
    "Examples\n",
    "is_in_order(\"abc\") ➞ True\n",
    "is_in_order(\"edabit\") ➞ False\n",
    "is_in_order(\"123\") ➞ True\n",
    "is_in_order(\"xyzz\") ➞ True\n",
    "Notes\n",
    "You don't have to handle empty strings."
   ]
  },
  {
   "cell_type": "code",
   "execution_count": 21,
   "id": "9e25bc00-c678-4ae9-ad72-c924cdb86e8e",
   "metadata": {},
   "outputs": [],
   "source": [
    "def is_in_order(word):\n",
    "    \n",
    "    l1 = []\n",
    "    for i in word:\n",
    "        l1.append(i)\n",
    "\n",
    "    l1.sort()\n",
    "    joined_word = ''.join(l1)\n",
    "\n",
    "    if word == joined_word:\n",
    "        print(True)\n",
    "    else:\n",
    "        print(False)"
   ]
  },
  {
   "cell_type": "code",
   "execution_count": 22,
   "id": "7b310d67-45ad-4de0-b678-628df4bd0983",
   "metadata": {},
   "outputs": [
    {
     "name": "stdout",
     "output_type": "stream",
     "text": [
      "True\n"
     ]
    }
   ],
   "source": [
    "is_in_order(\"abc\")"
   ]
  },
  {
   "cell_type": "code",
   "execution_count": 23,
   "id": "fee053af-f37f-441b-9bca-cb5165960e26",
   "metadata": {},
   "outputs": [
    {
     "name": "stdout",
     "output_type": "stream",
     "text": [
      "False\n"
     ]
    }
   ],
   "source": [
    "is_in_order(\"edabit\")"
   ]
  },
  {
   "cell_type": "code",
   "execution_count": 24,
   "id": "36bfbf12-2b93-46a7-88ec-232484e4b983",
   "metadata": {},
   "outputs": [
    {
     "name": "stdout",
     "output_type": "stream",
     "text": [
      "True\n"
     ]
    }
   ],
   "source": [
    "is_in_order(\"123\")"
   ]
  },
  {
   "cell_type": "code",
   "execution_count": 25,
   "id": "87d26801-de36-42f0-be84-d051a79be8e4",
   "metadata": {},
   "outputs": [
    {
     "name": "stdout",
     "output_type": "stream",
     "text": [
      "True\n"
     ]
    }
   ],
   "source": [
    "is_in_order(\"xyzz\")"
   ]
  }
 ],
 "metadata": {
  "kernelspec": {
   "display_name": "Python 3 (ipykernel)",
   "language": "python",
   "name": "python3"
  },
  "language_info": {
   "codemirror_mode": {
    "name": "ipython",
    "version": 3
   },
   "file_extension": ".py",
   "mimetype": "text/x-python",
   "name": "python",
   "nbconvert_exporter": "python",
   "pygments_lexer": "ipython3",
   "version": "3.10.6"
  }
 },
 "nbformat": 4,
 "nbformat_minor": 5
}
